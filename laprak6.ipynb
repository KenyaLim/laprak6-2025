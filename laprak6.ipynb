{
 "cells": [
  {
   "cell_type": "code",
   "execution_count": 2,
   "metadata": {},
   "outputs": [
    {
     "name": "stdout",
     "output_type": "stream",
     "text": [
      "5 x 5 = 5 + 5 + 5 + 5 + 5 = 25\n",
      "7 x 10 = 7 + 7 + 7 + 7 + 7 + 7 + 7 + 7 + 7 + 7 = 70\n"
     ]
    }
   ],
   "source": [
    "#soal 1\n",
    "def perkalian(a, b):\n",
    "    hasil = 0\n",
    "    for i in range(b):\n",
    "        hasil += a\n",
    "    return hasil\n",
    "    \n",
    "def tuambah(angka1, angka2):\n",
    "    hasil_perkalian = perkalian(angka1, angka2)\n",
    "    print(f\"{angka1} x {angka2} = {' + '.join(str(angka1) for i in range(angka2))} = {hasil_perkalian}\")\n",
    "\n",
    "tuambah(5, 5)\n",
    "tuambah(7,10)"
   ]
  },
  {
   "cell_type": "code",
   "execution_count": 3,
   "metadata": {},
   "outputs": [
    {
     "name": "stdout",
     "output_type": "stream",
     "text": [
      "\n",
      " bawah = 10, atas = 30. Maka hasilnya =\n",
      "11,13,15,17,19,21,23,25,27,29,\n",
      " bawah = 97, atas = 82. Maka hasilnya =\n",
      "97,95,93,91,89,87,85,83,"
     ]
    }
   ],
   "source": [
    "#soal 2\n",
    "def ganjil (bawah,atas):\n",
    "    print(f\"\\n bawah = {bawah}, atas = {atas}. Maka hasilnya =\")\n",
    "    if bawah < atas:\n",
    "        for i in range(bawah, atas+1):\n",
    "            if i % 2 != 0:\n",
    "                print(i,end=\",\")\n",
    "    else:\n",
    "        for i in range(bawah, atas-1,-1):\n",
    "            if i % 2 != 0:\n",
    "                print(i,end=\",\")\n",
    "\n",
    "ganjil(10,30)\n",
    "ganjil(97,82)"
   ]
  },
  {
   "cell_type": "code",
   "execution_count": 1,
   "metadata": {},
   "outputs": [
    {
     "name": "stdout",
     "output_type": "stream",
     "text": [
      "Indeks Prestasi Semester anda: 2.33\n"
     ]
    },
    {
     "data": {
      "text/plain": [
       "2.3333333333333335"
      ]
     },
     "execution_count": 1,
     "metadata": {},
     "output_type": "execute_result"
    }
   ],
   "source": [
    "#soal 3\n",
    "def count_ips(jmlh_matkul):\n",
    "    total_sks = jmlh_matkul * 3\n",
    "    bobot_total = 0\n",
    "    \n",
    "    for i in range(jmlh_matkul):\n",
    "        huruf = input(f\"Masukkan nilai mata kuliah ke-{i+1} (A/B/C/D): \")\n",
    "        if huruf.upper() == \"A\":\n",
    "            nilai_matkul = 4\n",
    "        elif huruf.upper() == \"B\":\n",
    "            nilai_matkul = 3\n",
    "        elif huruf.upper() == \"C\":\n",
    "            nilai_matkul = 2\n",
    "        elif huruf.upper() == \"D\":\n",
    "            nilai_matkul = 1\n",
    "        else:\n",
    "            print(\"Huruf tidak valid, masukkan dengan benar (A/B/C/D)!\")\n",
    "            return\n",
    "        \n",
    "        bobot_total += nilai_matkul * 3\n",
    "    \n",
    "    ips = bobot_total / total_sks\n",
    "    if ips is not None:\n",
    "        print(f\"Indeks Prestasi Semester anda: {ips:.2f}\")\n",
    "    return ips\n",
    "\n",
    "jumlah_matkul = int(input('Masukkan jumlah mata kuliah anda: '))\n",
    "count_ips(jumlah_matkul)\n"
   ]
  }
 ],
 "metadata": {
  "kernelspec": {
   "display_name": "Python 3",
   "language": "python",
   "name": "python3"
  },
  "language_info": {
   "codemirror_mode": {
    "name": "ipython",
    "version": 3
   },
   "file_extension": ".py",
   "mimetype": "text/x-python",
   "name": "python",
   "nbconvert_exporter": "python",
   "pygments_lexer": "ipython3",
   "version": "3.12.5"
  }
 },
 "nbformat": 4,
 "nbformat_minor": 2
}
